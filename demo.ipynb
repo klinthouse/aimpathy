{
 "cells": [
  {
   "cell_type": "code",
   "execution_count": 23,
   "metadata": {},
   "outputs": [],
   "source": [
    "import openai\n",
    "import re\n",
    "import random"
   ]
  },
  {
   "cell_type": "code",
   "execution_count": 57,
   "metadata": {},
   "outputs": [],
   "source": [
    "voice_char = ['very low', 'low', 'high', 'very high']\n",
    "pattern_char = ['very slow', 'slow', 'fast', 'very fast']\n",
    "energy_char = ['very low', 'low', 'high', 'very high']\n",
    "contents = ['oh', 'how great']\n",
    "\n",
    "def get_conditions_suggestions(spectral_analysis, content):\n",
    "\n",
    "    completion = openai.ChatCompletion.create(\n",
    "        model=\"gpt-4\",\n",
    "        messages=[\n",
    "            {\n",
    "            \"role\": \"user\", \n",
    "            \"content\": f\"Summarize condition of the person based on the speech and suggest music, food , ambient light setting in bullets of Condition, Music, Food and Ambient Light without return keys: {spectral_analysis[0]} pitch; {spectral_analysis[1]} speech patterh;  {spectral_analysis[2]} voice amplitude; speech contents is {content}.\"\n",
    "            }\n",
    "        ]\n",
    "        )\n",
    "    res = completion['choices'][0]['message']['content']\n",
    "    condition = re.findall(r'.*Condition: (.*)', res)\n",
    "    music = re.findall(r'.*Music: (.*)', res)\n",
    "    food = re.findall(r'.*Food: (.*)', res)\n",
    "    ambient_light = re.findall(r'.*Ambient Light: (.*)', res)\n",
    "\n",
    "    return res, condition, music, food, ambient_light\n",
    "\n",
    "\n",
    "values = []\n",
    "for _ in range(200):\n",
    "    for content in contents:\n",
    "        spectral_analysis = []\n",
    "        for chars in [voice_char, pattern_char, energy_char]:\n",
    "            idx_rand = random.randint(0, len(chars)-1)\n",
    "            spectral_analysis.append(chars[idx_rand])\n",
    "\n",
    "        res, condition, music, food, ambient_light = get_conditions_suggestions(spectral_analysis, content)\n",
    "\n",
    "        value = [res, content, spectral_analysis, condition, music, food, ambient_light]\n",
    "        values.append(value)\n",
    "\n",
    "\n",
    "    "
   ]
  },
  {
   "cell_type": "code",
   "execution_count": 77,
   "metadata": {},
   "outputs": [],
   "source": [
    "sample = []\n",
    "sample_label = []\n",
    "for i in range(len(values)):\n",
    "    \n",
    "    if i%2 == 0:\n",
    "        ft = values[i][2]\n",
    "        label = values[i][3]\n",
    "    else:\n",
    "        ft.extend(values[i][2])\n",
    "        label.extend(values[i][3])\n",
    "        sample.append(ft)\n",
    "        sample_label.append(label)"
   ]
  }
 ],
 "metadata": {
  "kernelspec": {
   "display_name": "venv",
   "language": "python",
   "name": "python3"
  },
  "language_info": {
   "codemirror_mode": {
    "name": "ipython",
    "version": 3
   },
   "file_extension": ".py",
   "mimetype": "text/x-python",
   "name": "python",
   "nbconvert_exporter": "python",
   "pygments_lexer": "ipython3",
   "version": "3.10.9"
  },
  "orig_nbformat": 4
 },
 "nbformat": 4,
 "nbformat_minor": 2
}
